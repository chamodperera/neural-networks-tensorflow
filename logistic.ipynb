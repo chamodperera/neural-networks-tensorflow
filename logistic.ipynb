{
 "cells": [
  {
   "cell_type": "code",
   "execution_count": 1,
   "metadata": {},
   "outputs": [],
   "source": [
    "import numpy as np\n",
    "import matplotlib.pyplot as plt\n",
    "import tensorflow as tf\n",
    "import pandas as pd\n",
    "from tensorflow.keras.models import Sequential\n",
    "from tensorflow.keras.layers import Dense\n",
    "import logging\n",
    "logging.getLogger(\"tensorflow\").setLevel(logging.ERROR)\n",
    "tf.autograph.set_verbosity(0)\n"
   ]
  },
  {
   "cell_type": "code",
   "execution_count": 2,
   "metadata": {},
   "outputs": [
    {
     "data": {
      "text/html": [
       "<div>\n",
       "<style scoped>\n",
       "    .dataframe tbody tr th:only-of-type {\n",
       "        vertical-align: middle;\n",
       "    }\n",
       "\n",
       "    .dataframe tbody tr th {\n",
       "        vertical-align: top;\n",
       "    }\n",
       "\n",
       "    .dataframe thead th {\n",
       "        text-align: right;\n",
       "    }\n",
       "</style>\n",
       "<table border=\"1\" class=\"dataframe\">\n",
       "  <thead>\n",
       "    <tr style=\"text-align: right;\">\n",
       "      <th></th>\n",
       "      <th>Temperature[C]</th>\n",
       "      <th>Humidity[%]</th>\n",
       "      <th>TVOC[ppb]</th>\n",
       "      <th>eCO2[ppm]</th>\n",
       "      <th>Raw H2</th>\n",
       "      <th>Raw Ethanol</th>\n",
       "      <th>Pressure[hPa]</th>\n",
       "      <th>PM1.0</th>\n",
       "      <th>PM2.5</th>\n",
       "      <th>NC0.5</th>\n",
       "      <th>NC1.0</th>\n",
       "      <th>NC2.5</th>\n",
       "      <th>CNT</th>\n",
       "      <th>Fire</th>\n",
       "    </tr>\n",
       "  </thead>\n",
       "  <tbody>\n",
       "    <tr>\n",
       "      <th>0</th>\n",
       "      <td>20.000</td>\n",
       "      <td>57.36</td>\n",
       "      <td>0</td>\n",
       "      <td>400</td>\n",
       "      <td>12306</td>\n",
       "      <td>18520</td>\n",
       "      <td>939.735</td>\n",
       "      <td>0.0</td>\n",
       "      <td>0.0</td>\n",
       "      <td>0.0</td>\n",
       "      <td>0.0</td>\n",
       "      <td>0.0</td>\n",
       "      <td>0</td>\n",
       "      <td>0</td>\n",
       "    </tr>\n",
       "    <tr>\n",
       "      <th>1</th>\n",
       "      <td>20.015</td>\n",
       "      <td>56.67</td>\n",
       "      <td>0</td>\n",
       "      <td>400</td>\n",
       "      <td>12345</td>\n",
       "      <td>18651</td>\n",
       "      <td>939.744</td>\n",
       "      <td>0.0</td>\n",
       "      <td>0.0</td>\n",
       "      <td>0.0</td>\n",
       "      <td>0.0</td>\n",
       "      <td>0.0</td>\n",
       "      <td>1</td>\n",
       "      <td>0</td>\n",
       "    </tr>\n",
       "    <tr>\n",
       "      <th>2</th>\n",
       "      <td>20.029</td>\n",
       "      <td>55.96</td>\n",
       "      <td>0</td>\n",
       "      <td>400</td>\n",
       "      <td>12374</td>\n",
       "      <td>18764</td>\n",
       "      <td>939.738</td>\n",
       "      <td>0.0</td>\n",
       "      <td>0.0</td>\n",
       "      <td>0.0</td>\n",
       "      <td>0.0</td>\n",
       "      <td>0.0</td>\n",
       "      <td>2</td>\n",
       "      <td>0</td>\n",
       "    </tr>\n",
       "    <tr>\n",
       "      <th>3</th>\n",
       "      <td>20.044</td>\n",
       "      <td>55.28</td>\n",
       "      <td>0</td>\n",
       "      <td>400</td>\n",
       "      <td>12390</td>\n",
       "      <td>18849</td>\n",
       "      <td>939.736</td>\n",
       "      <td>0.0</td>\n",
       "      <td>0.0</td>\n",
       "      <td>0.0</td>\n",
       "      <td>0.0</td>\n",
       "      <td>0.0</td>\n",
       "      <td>3</td>\n",
       "      <td>0</td>\n",
       "    </tr>\n",
       "    <tr>\n",
       "      <th>4</th>\n",
       "      <td>20.059</td>\n",
       "      <td>54.69</td>\n",
       "      <td>0</td>\n",
       "      <td>400</td>\n",
       "      <td>12403</td>\n",
       "      <td>18921</td>\n",
       "      <td>939.744</td>\n",
       "      <td>0.0</td>\n",
       "      <td>0.0</td>\n",
       "      <td>0.0</td>\n",
       "      <td>0.0</td>\n",
       "      <td>0.0</td>\n",
       "      <td>4</td>\n",
       "      <td>0</td>\n",
       "    </tr>\n",
       "  </tbody>\n",
       "</table>\n",
       "</div>"
      ],
      "text/plain": [
       "   Temperature[C]  Humidity[%]  TVOC[ppb]  eCO2[ppm]  Raw H2  Raw Ethanol  \\\n",
       "0          20.000        57.36          0        400   12306        18520   \n",
       "1          20.015        56.67          0        400   12345        18651   \n",
       "2          20.029        55.96          0        400   12374        18764   \n",
       "3          20.044        55.28          0        400   12390        18849   \n",
       "4          20.059        54.69          0        400   12403        18921   \n",
       "\n",
       "   Pressure[hPa]  PM1.0  PM2.5  NC0.5  NC1.0  NC2.5  CNT  Fire  \n",
       "0        939.735    0.0    0.0    0.0    0.0    0.0    0     0  \n",
       "1        939.744    0.0    0.0    0.0    0.0    0.0    1     0  \n",
       "2        939.738    0.0    0.0    0.0    0.0    0.0    2     0  \n",
       "3        939.736    0.0    0.0    0.0    0.0    0.0    3     0  \n",
       "4        939.744    0.0    0.0    0.0    0.0    0.0    4     0  "
      ]
     },
     "execution_count": 2,
     "metadata": {},
     "output_type": "execute_result"
    }
   ],
   "source": [
    "df = pd.read_csv('./smoke_detection.csv')\n",
    "df.head()"
   ]
  },
  {
   "cell_type": "code",
   "execution_count": 3,
   "metadata": {},
   "outputs": [
    {
     "data": {
      "text/plain": [
       "((56367, 14), (6263, 14))"
      ]
     },
     "execution_count": 3,
     "metadata": {},
     "output_type": "execute_result"
    }
   ],
   "source": [
    "# train and test data\n",
    "\n",
    "train = df.sample(frac=0.9, replace=False, random_state=1)\n",
    "test = df.drop(train.index)\n",
    "\n",
    "train.shape,test.shape"
   ]
  },
  {
   "cell_type": "code",
   "execution_count": 4,
   "metadata": {},
   "outputs": [
    {
     "name": "stdout",
     "output_type": "stream",
     "text": [
      "x_train = (56367, 13)\n",
      "y_train = (56367, 1)\n",
      "x_test = (6263, 13)\n",
      "y_test = (6263, 1)\n"
     ]
    }
   ],
   "source": [
    "#storing in np arrays\n",
    "\n",
    "xTrain = np.array(train.drop(columns=['Fire']))\n",
    "yTrain = np.array(train['Fire']).reshape((-1,1))\n",
    "\n",
    "\n",
    "xTest = np.array(test.drop(columns=['Fire']))\n",
    "yTest = np.array(test['Fire']).reshape((-1,1))\n",
    "\n",
    "print(f'x_train = {xTrain.shape}')\n",
    "print(f'y_train = {yTrain.shape}')\n",
    "print(f'x_test = {xTest.shape}')\n",
    "print(f'y_test = {yTest.shape}')"
   ]
  },
  {
   "cell_type": "code",
   "execution_count": 5,
   "metadata": {},
   "outputs": [
    {
     "name": "stdout",
     "output_type": "stream",
     "text": [
      "Column 0 Max, Min pre normalization: 59.93, -22.01\n",
      "Column 1 Max, Min pre normalization: 75.20, 10.74\n",
      "Column 2 Max, Min pre normalization: 60000.00, 0.00\n",
      "Column 3 Max, Min pre normalization: 60000.00, 400.00\n",
      "Column 4 Max, Min pre normalization: 13803.00, 10668.00\n",
      "Column 5 Max, Min pre normalization: 21410.00, 15317.00\n",
      "Column 6 Max, Min pre normalization: 939.86, 930.85\n",
      "Column 7 Max, Min pre normalization: 14333.69, 0.00\n",
      "Column 8 Max, Min pre normalization: 45432.26, 0.00\n",
      "Column 9 Max, Min pre normalization: 61482.03, 0.00\n",
      "Column 10 Max, Min pre normalization: 51914.68, 0.00\n",
      "Column 11 Max, Min pre normalization: 30026.44, 0.00\n",
      "Column 12 Max, Min pre normalization: 24993.00, 0.00\n",
      "Column 0 Max, Min post normalization: 3.07, -2.65\n",
      "Column 1 Max, Min post normalization: 3.02, -4.29\n",
      "Column 2 Max, Min post normalization: 7.52, -0.25\n",
      "Column 3 Max, Min post normalization: 31.95, -0.14\n",
      "Column 4 Max, Min post normalization: 3.18, -8.42\n",
      "Column 5 Max, Min post normalization: 2.73, -7.32\n",
      "Column 6 Max, Min post normalization: 0.93, -5.86\n",
      "Column 7 Max, Min post normalization: 15.64, -0.11\n",
      "Column 8 Max, Min post normalization: 22.99, -0.09\n",
      "Column 9 Max, Min post normalization: 14.64, -0.11\n",
      "Column 10 Max, Min post normalization: 23.43, -0.09\n",
      "Column 11 Max, Min post normalization: 27.60, -0.07\n",
      "Column 12 Max, Min post normalization: 1.91, -1.38\n"
     ]
    }
   ],
   "source": [
    "#normalize\n",
    "samples = xTrain.shape[1]\n",
    "for i in range(samples):\n",
    "    print(f\"Column {i} Max, Min pre normalization: {np.max(xTrain[:,i]):0.2f}, {np.min(xTrain[:,i]):0.2f}\")\n",
    "\n",
    "norm_l = tf.keras.layers.Normalization(axis=-1)\n",
    "norm_l.adapt(xTrain)  # learns mean, variance\n",
    "xTrainN = norm_l(xTrain)\n",
    "\n",
    "for i in range(samples):\n",
    "    print(f\"Column {i} Max, Min post normalization: {np.max(xTrainN[:,i]):0.2f}, {np.min(xTrainN[:,i]):0.2f}\")\n"
   ]
  },
  {
   "cell_type": "code",
   "execution_count": 6,
   "metadata": {},
   "outputs": [
    {
     "name": "stdout",
     "output_type": "stream",
     "text": [
      "(225468, 13) (225468, 1)\n"
     ]
    }
   ],
   "source": [
    "Xt = np.tile(xTrainN,(4,1))\n",
    "Yt= np.tile(yTrain,(4,1))   \n",
    "print(Xt.shape, Yt.shape) "
   ]
  },
  {
   "cell_type": "markdown",
   "metadata": {},
   "source": [
    "## Tensorflow Model"
   ]
  },
  {
   "cell_type": "code",
   "execution_count": 7,
   "metadata": {},
   "outputs": [],
   "source": [
    "tf.random.set_seed(1234)  # applied to achieve consistent results\n",
    "model = Sequential(\n",
    "    [\n",
    "        tf.keras.Input(shape=(13,)),\n",
    "        Dense(20, activation='sigmoid', name = 'layer1'),\n",
    "        Dense(10, activation='sigmoid', name = 'layer2'),\n",
    "        Dense(5, activation='sigmoid', name = 'layer3'),\n",
    "        Dense(2, activation='sigmoid', name = 'layer4'),\n",
    "        Dense(1, activation='sigmoid', name = 'layer5'),\n",
    "     ]\n",
    ")"
   ]
  },
  {
   "cell_type": "code",
   "execution_count": 8,
   "metadata": {},
   "outputs": [
    {
     "name": "stdout",
     "output_type": "stream",
     "text": [
      "Model: \"sequential\"\n",
      "_________________________________________________________________\n",
      " Layer (type)                Output Shape              Param #   \n",
      "=================================================================\n",
      " layer1 (Dense)              (None, 20)                280       \n",
      "                                                                 \n",
      " layer2 (Dense)              (None, 10)                210       \n",
      "                                                                 \n",
      " layer3 (Dense)              (None, 5)                 55        \n",
      "                                                                 \n",
      " layer4 (Dense)              (None, 2)                 12        \n",
      "                                                                 \n",
      " layer5 (Dense)              (None, 1)                 3         \n",
      "                                                                 \n",
      "=================================================================\n",
      "Total params: 560\n",
      "Trainable params: 560\n",
      "Non-trainable params: 0\n",
      "_________________________________________________________________\n"
     ]
    }
   ],
   "source": [
    "model.summary()"
   ]
  },
  {
   "cell_type": "code",
   "execution_count": 9,
   "metadata": {},
   "outputs": [
    {
     "name": "stdout",
     "output_type": "stream",
     "text": [
      "Layer1 : W(13, 20) & b(20,)\n",
      "Layer2 : W(20, 10) & b(10,)\n",
      "Layer3 : W(10, 5) & b(5,)\n",
      "Layer4 : W(5, 2) & b(2,)\n",
      "Layer5 : W(2, 1) & b(1,)\n"
     ]
    }
   ],
   "source": [
    "for i in range(5):\n",
    "    W, b = model.get_layer(f\"layer{i+1}\").get_weights()\n",
    "    print(f\"Layer{i+1} : W{W.shape} & b{b.shape}\")"
   ]
  },
  {
   "cell_type": "code",
   "execution_count": 10,
   "metadata": {},
   "outputs": [
    {
     "name": "stdout",
     "output_type": "stream",
     "text": [
      "Epoch 1/15\n",
      "7046/7046 [==============================] - 10s 1ms/step - loss: 0.0813\n",
      "Epoch 2/15\n",
      "7046/7046 [==============================] - 8s 1ms/step - loss: 0.0691\n",
      "Epoch 3/15\n",
      "7046/7046 [==============================] - 9s 1ms/step - loss: 0.0690\n",
      "Epoch 4/15\n",
      "7046/7046 [==============================] - 9s 1ms/step - loss: 0.0688\n",
      "Epoch 5/15\n",
      "7046/7046 [==============================] - 9s 1ms/step - loss: 0.0686\n",
      "Epoch 6/15\n",
      "7046/7046 [==============================] - 8s 1ms/step - loss: 0.0684\n",
      "Epoch 7/15\n",
      "7046/7046 [==============================] - 8s 1ms/step - loss: 0.0685\n",
      "Epoch 8/15\n",
      "7046/7046 [==============================] - 9s 1ms/step - loss: 0.0682\n",
      "Epoch 9/15\n",
      "7046/7046 [==============================] - 9s 1ms/step - loss: 0.0686\n",
      "Epoch 10/15\n",
      "7046/7046 [==============================] - 9s 1ms/step - loss: 0.0680\n",
      "Epoch 11/15\n",
      "7046/7046 [==============================] - 9s 1ms/step - loss: 0.0681\n",
      "Epoch 12/15\n",
      "7046/7046 [==============================] - 8s 1ms/step - loss: 0.0682\n",
      "Epoch 13/15\n",
      "7046/7046 [==============================] - 8s 1ms/step - loss: 0.0681\n",
      "Epoch 14/15\n",
      "7046/7046 [==============================] - 8s 1ms/step - loss: 0.0681\n",
      "Epoch 15/15\n",
      "7046/7046 [==============================] - 8s 1ms/step - loss: 0.0679\n"
     ]
    },
    {
     "data": {
      "text/plain": [
       "<keras.callbacks.History at 0x1f3b5fbf400>"
      ]
     },
     "execution_count": 10,
     "metadata": {},
     "output_type": "execute_result"
    }
   ],
   "source": [
    "#train model\n",
    "\n",
    "model.compile(\n",
    "    loss = tf.keras.losses.BinaryCrossentropy(),\n",
    "    optimizer = tf.keras.optimizers.Adam(learning_rate=0.01),\n",
    ")\n",
    "\n",
    "model.fit(\n",
    "    Xt,Yt,            \n",
    "    epochs=15,\n",
    ")"
   ]
  },
  {
   "cell_type": "markdown",
   "metadata": {},
   "source": [
    "### Predictions"
   ]
  },
  {
   "cell_type": "code",
   "execution_count": 11,
   "metadata": {},
   "outputs": [
    {
     "name": "stdout",
     "output_type": "stream",
     "text": [
      "196/196 [==============================] - 0s 910us/step\n",
      "predictions = \n",
      " [[0.05855832]\n",
      " [0.05855832]\n",
      " [0.05855832]\n",
      " ...\n",
      " [0.05855832]\n",
      " [0.05855832]\n",
      " [0.05855832]]\n"
     ]
    }
   ],
   "source": [
    "xTestN = norm_l(xTest)\n",
    "predictions = model.predict(xTestN)\n",
    "print(\"predictions = \\n\", predictions)"
   ]
  },
  {
   "cell_type": "code",
   "execution_count": 12,
   "metadata": {},
   "outputs": [
    {
     "name": "stdout",
     "output_type": "stream",
     "text": [
      "4352\n"
     ]
    }
   ],
   "source": [
    "yPredicted = (predictions >= 0.5).astype(int)\n",
    "# print(f\"decisions = /n{yPredicted}\")\n",
    "one = 0\n",
    "for i in range(yPredicted.shape[0]):\n",
    "    if yPredicted[i,:] == 1 :\n",
    "        one += 1\n",
    "\n",
    "print(one)"
   ]
  },
  {
   "cell_type": "code",
   "execution_count": 13,
   "metadata": {},
   "outputs": [
    {
     "name": "stdout",
     "output_type": "stream",
     "text": [
      "Accuracy = 98.05205173239662 %\n"
     ]
    }
   ],
   "source": [
    "#Check Accuracy\n",
    "Matched = 0\n",
    "for i in range(yPredicted.shape[0]):\n",
    "\n",
    "    if yPredicted[i,:] == yTest[i,:] :\n",
    "        Matched += 1\n",
    "\n",
    "Accuracy = (Matched/yPredicted.shape[0])*100\n",
    "print(f\"Accuracy = {Accuracy} %\")  \n"
   ]
  }
 ],
 "metadata": {
  "kernelspec": {
   "display_name": "Python 3.10.6 ('tf')",
   "language": "python",
   "name": "python3"
  },
  "language_info": {
   "codemirror_mode": {
    "name": "ipython",
    "version": 3
   },
   "file_extension": ".py",
   "mimetype": "text/x-python",
   "name": "python",
   "nbconvert_exporter": "python",
   "pygments_lexer": "ipython3",
   "version": "3.10.6"
  },
  "orig_nbformat": 4,
  "vscode": {
   "interpreter": {
    "hash": "fd6d6cb290673ab90f7eabfbb5e0872757dd79fe611a96b9ca3462dfc1ba1bf5"
   }
  }
 },
 "nbformat": 4,
 "nbformat_minor": 2
}
